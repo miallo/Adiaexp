{
 "metadata": {
  "name": "",
  "signature": "sha256:42a79e715875a183942dce521ad94697a1e0bc0900e029c8068c64dbb2a98d82"
 },
 "nbformat": 3,
 "nbformat_minor": 0,
 "worksheets": [
  {
   "cells": [
    {
     "cell_type": "code",
     "collapsed": false,
     "input": [
      "import math\n",
      "import maabara as ma\n",
      "import quantities as pq\n",
      "from numpy import array\n",
      "from uncertainties import ufloat"
     ],
     "language": "python",
     "metadata": {},
     "outputs": [],
     "prompt_number": 2
    },
    {
     "cell_type": "code",
     "collapsed": false,
     "input": [
      "def pTex(x):\n",
      "    return \"$\"+str(ufloat(x[0],x[1])).replace(\"+/-\",\" \\pm \")+\"$\"\n",
      "def pTex2(x,n):\n",
      "    return pTex([x[0]*math.pow(10,n),x[1]*math.pow(10,n)])"
     ],
     "language": "python",
     "metadata": {},
     "outputs": [],
     "prompt_number": 3
    },
    {
     "cell_type": "heading",
     "level": 1,
     "metadata": {},
     "source": [
      "Adiabatenexponent"
     ]
    },
    {
     "cell_type": "heading",
     "level": 2,
     "metadata": {},
     "source": [
      "R\u00fcchardt"
     ]
    },
    {
     "cell_type": "code",
     "collapsed": false,
     "input": [
      "b = [101565.,10.] #Pa\n",
      "m = 4.88e-3 #kg\n",
      "d = 9.97e-3 #mm\n",
      "V = 2300.45e-6 #m^3\n",
      "rho_L = 1.2 #kg/m^3\n",
      "g = 9.81 #m/s^2\n",
      "A = math.pi*d*d/4"
     ],
     "language": "python",
     "metadata": {},
     "outputs": [],
     "prompt_number": 4
    },
    {
     "cell_type": "code",
     "collapsed": false,
     "input": [
      "T_CO2 = [[1,[763,762,761,761,764,763,761,762,762,762]],\\\n",
      "         [10,[7617,7615,7625,7625,7628,7624]],\\\n",
      "         [20,[15265,15261,15269,15268]],\\\n",
      "         [50,[38178,38167,38163]],\\\n",
      "         [100,[76239,76276,76295]]]\n",
      "l_CO2 = [0.195,0.005]"
     ],
     "language": "python",
     "metadata": {},
     "outputs": [],
     "prompt_number": 5
    },
    {
     "cell_type": "code",
     "collapsed": false,
     "input": [
      "T_Argon = [[1,[686,685,685,686,686,686,686,686,686,686]],\\\n",
      "           [10,[6862,6861,6871]],\\\n",
      "           [20,[13731,13722,13736]],\\\n",
      "           [50,[34324,34334,34314]],\\\n",
      "           [100,[68630,68642,68627]]]\n",
      "l_Argon = [0.125,0.005]"
     ],
     "language": "python",
     "metadata": {},
     "outputs": [],
     "prompt_number": 6
    },
    {
     "cell_type": "code",
     "collapsed": false,
     "input": [
      "T_Luft = [[1,[736,739,737,737,737,737,738,738,738,737]],\\\n",
      "          [10,[7362,7373,7376,7378,7379]],\\\n",
      "          [20,[14749,14759,14770,14759]],\\\n",
      "          [50,[36934,36979,36939,36864]],\\\n",
      "          [100,[73832,73922,73973]]]\n",
      "l_Luft = [0.175,0.005]"
     ],
     "language": "python",
     "metadata": {},
     "outputs": [],
     "prompt_number": 7
    },
    {
     "cell_type": "code",
     "collapsed": false,
     "input": [
      "Gas=[\"CO$_2$\",\"Argon\",\"Luft\"]\n",
      "T=[T_CO2,T_Argon,T_Luft]\n",
      "l=[l_CO2,l_Argon,l_Luft]\n",
      "m1 = []\n",
      "p = []\n",
      "for i in range(len(l)):\n",
      "    m1.append([m+rho_L*A*l[i][0],rho_L*A*l[i][1]])\n",
      "    p.append([b[0]+m1[i][0]*g/A,math.sqrt(b[1]*b[1]+math.pow(m1[i][1]*g/A,2))])\n",
      "    print Gas[i],\"&\",pTex2(m1[i],3),\"&\",pTex2(p[i],-2),\"\\\\\\\\\""
     ],
     "language": "python",
     "metadata": {},
     "outputs": [
      {
       "output_type": "stream",
       "stream": "stdout",
       "text": [
        "CO$_2$ & $4.8983 \\pm 0.0005$ & $1021.81 \\pm 0.10$ \\\\\n",
        "Argon & $4.8917 \\pm 0.0005$ & $1021.80 \\pm 0.10$ \\\\\n",
        "Luft & $4.8964 \\pm 0.0005$ & $1021.80 \\pm 0.10$ \\\\\n"
       ]
      }
     ],
     "prompt_number": 8
    },
    {
     "cell_type": "code",
     "collapsed": false,
     "input": [
      "AdEx = ma.uncertainty.Sheet()\n",
      "AdEx.eq(\"4*pi*pi*m1*V/(T^2*p*d^4)\",\"\\kappa\")#bei Felix falsch???????????????\n",
      "AdEx.v('d',d)\n",
      "AdEx.v('V',V)\n",
      "kappa = []\n",
      "kappa_mit = []\n",
      "f = []\n",
      "for i in range(len(T)):\n",
      "    print Gas[i]\n",
      "    AdEx.v('m1',m1[i][0],m1[i][1],\"m_{eff}\")\n",
      "    AdEx.v('p',p[i][0],p[i][1])\n",
      "    kappa.append([])\n",
      "    for k in range(len(T[i])):\n",
      "        t = ma.data.student_t(T[i][k][1])\n",
      "        t = [t[0]/T[i][k][0],(math.sqrt(t[1]**2+1))/T[i][k][0]] # mit Messungenauigkeit\n",
      "        t = [t[0]*1e-3,t[1]*1e-3]\n",
      "        AdEx.v('T',t[0],t[1])\n",
      "        kappa[i].append(AdEx.get_result())\n",
      "        print \"&\",T[i][k][0],\"&\",pTex2(t,3),\"&\",pTex(kappa[i][k]),\"\\\\\\\\\"\n",
      "    kappa_mit.append(ma.data.weighted_average(kappa[i]))\n",
      "    frei = ma.uncertainty.Sheet()\n",
      "    frei.eq(\"2/(k-1)\",\"f\")\n",
      "    frei.v('k',kappa_mit[i][0],kappa_mit[i][1],\"\\kappa\")\n",
      "    f.append(frei.get_result())\n",
      "    #print Gas[i],\"&\",pTex(kappa_mit[i]),\"&\",pTex(f[i]), \"\\\\\\\\\""
     ],
     "language": "python",
     "metadata": {},
     "outputs": [
      {
       "output_type": "stream",
       "stream": "stdout",
       "text": [
        "CO$_2$\n",
        "&"
       ]
      },
      {
       "output_type": "stream",
       "stream": "stdout",
       "text": [
        " 1 & $762.1 \\pm 1.1$ & $0.7587 \\pm 0.0021$ \\\\\n",
        "& 10 & $762.23 \\pm 0.24$ & $0.7584 \\pm 0.0005$ \\\\\n",
        "& 20 & $763.29 \\pm 0.11$ & $0.75629 \\pm 0.00025$ \\\\\n",
        "& 50 & $763.39 \\pm 0.12$ & $0.75610 \\pm 0.00026$ \\\\\n",
        "& 100 & $762.70 \\pm 0.22$ & $0.7575 \\pm 0.0004$ \\\\\n",
        "Argon"
       ]
      },
      {
       "output_type": "stream",
       "stream": "stdout",
       "text": [
        "\n",
        "& 1 & $685.8 \\pm 1.0$ & $0.9356 \\pm 0.0028$ \\\\\n",
        "& 10 & $686.5 \\pm 0.4$ & $0.9338 \\pm 0.0012$ \\\\\n",
        "& 20 & $686.48 \\pm 0.27$ & $0.9337 \\pm 0.0008$ \\\\\n",
        "& 50 & $686.48 \\pm 0.15$ & $0.9338 \\pm 0.0004$ \\\\\n",
        "& 100 & $686.33 \\pm 0.06$ & $0.93416 \\pm 0.00021$ \\\\\n",
        "Luft"
       ]
      },
      {
       "output_type": "stream",
       "stream": "stdout",
       "text": [
        "\n",
        "& 1 & $737.4 \\pm 1.0$ & $0.8100 \\pm 0.0023$ \\\\\n",
        "&"
       ]
      },
      {
       "output_type": "stream",
       "stream": "stdout",
       "text": [
        " 10 & $737.4 \\pm 0.4$ & $0.8101 \\pm 0.0008$ \\\\\n",
        "& 20 & $737.96 \\pm 0.25$ & $0.8088 \\pm 0.0006$ \\\\\n",
        "& 50 & $738.6 \\pm 0.5$ & $0.8074 \\pm 0.0012$ \\\\\n",
        "& 100 & $739.1 \\pm 0.5$ & $0.8063 \\pm 0.0012$ \\\\\n"
       ]
      }
     ],
     "prompt_number": 13
    },
    {
     "cell_type": "code",
     "collapsed": false,
     "input": [],
     "language": "python",
     "metadata": {},
     "outputs": [],
     "prompt_number": 9
    },
    {
     "cell_type": "heading",
     "level": 2,
     "metadata": {},
     "source": [
      "Clement-Desormes"
     ]
    },
    {
     "cell_type": "code",
     "collapsed": false,
     "input": [
      "h1 = [[0.1,[56.,34.,38.,57.]],\\\n",
      "      [1.0,[60.,58.,40.,44.]],\\\n",
      "      [5.0,[60.,37.,56.]]]\n",
      "h2 = [[0.1,[15.,8.,9.,11.]],\\\n",
      "      [1.0,[15.,14.,8.,10.]],\\\n",
      "      [5.0,[12.,6.,11.]]]\n",
      "h_sigma = 2\n",
      "AdEx2 = ma.uncertainty.Sheet()\n",
      "AdEx2.eq(\"h/(h-g)\",\"\\kappa\")\n",
      "kappa2 = []\n",
      "kappa2_mit = []\n",
      "for i in range(len(h1)):\n",
      "    kappa2.append([])\n",
      "    for k in range(len(h1[i][1])):\n",
      "        AdEx2.v('h',2*h1[i][1][k],h_sigma,\"\\Delta h_1\")#*2 wegen halber H\u00f6he\n",
      "        AdEx2.v('g',h2[i][1][k],h_sigma,\"\\Delta h_2\")\n",
      "        kappa2[i].append(AdEx2.get_result())\n",
      "    kappa2_mit.append(ma.data.weighted_average(kappa2[i]))\n",
      "    print h1[i][0],\"&\",pTex(kappa2_mit[i])"
     ],
     "language": "python",
     "metadata": {},
     "outputs": [
      {
       "ename": "NameError",
       "evalue": "name 'ma' is not defined",
       "output_type": "pyerr",
       "traceback": [
        "\u001b[0;31m---------------------------------------------------------------------------\u001b[0m\n\u001b[0;31mNameError\u001b[0m                                 Traceback (most recent call last)",
        "\u001b[0;32m<ipython-input-1-7ac7fca35742>\u001b[0m in \u001b[0;36m<module>\u001b[0;34m()\u001b[0m\n\u001b[1;32m      2\u001b[0m \u001b[0mh2\u001b[0m \u001b[0;34m=\u001b[0m \u001b[0;34m[\u001b[0m\u001b[0;34m[\u001b[0m\u001b[0;36m0.1\u001b[0m\u001b[0;34m,\u001b[0m\u001b[0;34m[\u001b[0m\u001b[0;36m15.\u001b[0m\u001b[0;34m,\u001b[0m\u001b[0;36m8.\u001b[0m\u001b[0;34m,\u001b[0m\u001b[0;36m9.\u001b[0m\u001b[0;34m,\u001b[0m\u001b[0;36m11.\u001b[0m\u001b[0;34m]\u001b[0m\u001b[0;34m]\u001b[0m\u001b[0;34m,\u001b[0m      \u001b[0;34m[\u001b[0m\u001b[0;36m1.0\u001b[0m\u001b[0;34m,\u001b[0m\u001b[0;34m[\u001b[0m\u001b[0;36m15.\u001b[0m\u001b[0;34m,\u001b[0m\u001b[0;36m14.\u001b[0m\u001b[0;34m,\u001b[0m\u001b[0;36m8.\u001b[0m\u001b[0;34m,\u001b[0m\u001b[0;36m10.\u001b[0m\u001b[0;34m]\u001b[0m\u001b[0;34m]\u001b[0m\u001b[0;34m,\u001b[0m      \u001b[0;34m[\u001b[0m\u001b[0;36m5.0\u001b[0m\u001b[0;34m,\u001b[0m\u001b[0;34m[\u001b[0m\u001b[0;36m12.\u001b[0m\u001b[0;34m,\u001b[0m\u001b[0;36m6.\u001b[0m\u001b[0;34m,\u001b[0m\u001b[0;36m11.\u001b[0m\u001b[0;34m]\u001b[0m\u001b[0;34m]\u001b[0m\u001b[0;34m]\u001b[0m\u001b[0;34m\u001b[0m\u001b[0m\n\u001b[1;32m      3\u001b[0m \u001b[0mh_sigma\u001b[0m \u001b[0;34m=\u001b[0m \u001b[0;36m2\u001b[0m\u001b[0;34m\u001b[0m\u001b[0m\n\u001b[0;32m----> 4\u001b[0;31m \u001b[0mAdEx2\u001b[0m \u001b[0;34m=\u001b[0m \u001b[0mma\u001b[0m\u001b[0;34m.\u001b[0m\u001b[0muncertainty\u001b[0m\u001b[0;34m.\u001b[0m\u001b[0mSheet\u001b[0m\u001b[0;34m(\u001b[0m\u001b[0;34m)\u001b[0m\u001b[0;34m\u001b[0m\u001b[0m\n\u001b[0m\u001b[1;32m      5\u001b[0m \u001b[0mAdEx2\u001b[0m\u001b[0;34m.\u001b[0m\u001b[0meq\u001b[0m\u001b[0;34m(\u001b[0m\u001b[0;34m\"h/(h-g)\"\u001b[0m\u001b[0;34m,\u001b[0m\u001b[0;34m\"\\kappa\"\u001b[0m\u001b[0;34m)\u001b[0m\u001b[0;34m\u001b[0m\u001b[0m\n\u001b[1;32m      6\u001b[0m \u001b[0mkappa2\u001b[0m \u001b[0;34m=\u001b[0m \u001b[0;34m[\u001b[0m\u001b[0;34m]\u001b[0m\u001b[0;34m\u001b[0m\u001b[0m\n",
        "\u001b[0;31mNameError\u001b[0m: name 'ma' is not defined"
       ]
      }
     ],
     "prompt_number": 1
    },
    {
     "cell_type": "code",
     "collapsed": false,
     "input": [
      "#AdEx.print_result('short')\n",
      "#for i in range(len(kappa2_mit)):\n",
      "#   print \"$\",h1[i][0],\"$ & $\",kappa2_mit[i][0],\"\\pm\",kappa2_mit[i][1],\"$ \\\\\\\\\""
     ],
     "language": "python",
     "metadata": {},
     "outputs": [],
     "prompt_number": 11
    },
    {
     "cell_type": "heading",
     "level": 2,
     "metadata": {},
     "source": [
      "Kappa f\u00fcr Luft"
     ]
    },
    {
     "cell_type": "code",
     "collapsed": false,
     "input": [
      "kappaLuft = kappa2_mit\n",
      "if(len(kappaLuft)==3):kappaLuft.append(kappa_mit[2])\n",
      "kappa3 = ma.data.weighted_average(kappaLuft)\n",
      "print pTex(kappa3)\n",
      "print kappa2_mit"
     ],
     "language": "python",
     "metadata": {},
     "outputs": [
      {
       "output_type": "stream",
       "stream": "stdout",
       "text": [
        "$0.25766 \\pm 0.00013$\n",
        "[(1.1298080897739726, 0.01357103822551314), (1.1330808814495457, 0.012619800118249589), (1.1061313524866401, 0.013655860005025017), (0.25742181510618889, 0.0001273752487391608)]\n"
       ]
      }
     ],
     "prompt_number": 12
    },
    {
     "cell_type": "code",
     "collapsed": false,
     "input": [],
     "language": "python",
     "metadata": {},
     "outputs": [],
     "prompt_number": 12
    }
   ],
   "metadata": {}
  }
 ]
}